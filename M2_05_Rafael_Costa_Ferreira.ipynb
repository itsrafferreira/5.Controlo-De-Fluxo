{
 "cells": [
  {
   "cell_type": "markdown",
   "metadata": {},
   "source": [
    "# Exercícios Módulo 2. Controlo de fluxo (Soluções)\n",
    "\n",
    "Considerações a ter em conta:\n",
    "\n",
    "* Guardar este documento com o seguinte formato para entrega: __M2_05_nome_apelido1_apelido2__\n",
    "* Fazer os exercícios com as ferramentas vistas nas sessões. \n",
    "* Comentar o código\n",
    "* Utilizar nomes de variáveis apropriados, se vai guardar uma nota, chamar a essa variável nota, não n ou x"
   ]
  },
  {
   "cell_type": "markdown",
   "metadata": {},
   "source": [
    "## Exercícios de controlo de fluxo"
   ]
  },
  {
   "cell_type": "markdown",
   "metadata": {},
   "source": [
    "**1) Fazer um programa que leia três números por teclado e permitir avaliar o seguinte:** \n",
    "\n",
    "* Se os números estão por ordem ascendente\n",
    "* Se os números não estão por ordem ascendente\n",
    "* Se há um erro devido a que o primeiro número introduzido é 0"
   ]
  },
  {
   "cell_type": "code",
   "execution_count": 1,
   "metadata": {},
   "outputs": [],
   "source": [
    "#Digitar os 3 números\n",
    "num_1 = float(input(\"Digite o primeiro número: \"))\n",
    "num_2 = float(input(\"Digite o segundo número: \"))\n",
    "num_3 = float(input(\"Digite o terceiro número: \"))\n",
    "\n",
    "#Definiar as condições avaliadas\n",
    "if num_1 == 0:\n",
    "    print(\"Erro: O primeiro número é 0.\")\n",
    "elif num_1 < num_2 and num_2 < num_3:\n",
    "    print(\"Os números estão em ordem ascendente.\")\n",
    "else:\n",
    "    print(\"Os números não estão em ordem ascendente.\")"
   ]
  },
  {
   "cell_type": "markdown",
   "metadata": {},
   "source": [
    "**2) Fazer um programa que realize o somatório dos primeiros N números, começando em 0, e sendo N o número limite que o utilizador proporciona por teclado:** \n",
    "* Exemplo de número limite introduzido pelo utilizador: 5\n",
    "* somatório = 0 + 1 + 2 + 3 + 4 (somamos os 5 primeiros números)"
   ]
  },
  {
   "cell_type": "code",
   "execution_count": 2,
   "metadata": {},
   "outputs": [],
   "source": [
    "#Digitar o número limite\n",
    "N = int(input(\"Digite um número limite: \"))\n",
    "\n",
    "#Definir o somatório dos N primeiro números\n",
    "somatorio = sum(range(N))\n",
    "print(f\"Somatório dos primeiros {N} números: {somatorio}\")"
   ]
  },
  {
   "cell_type": "markdown",
   "metadata": {},
   "source": [
    "**3) Fazer um programa que leia dois números por teclado e mostre o seguinte menu:** \n",
    "\n",
    "* Mostrar uma soma dos dois números\n",
    "* Mostrar um resto dos dois números (o primeiro menos o segundo) \n",
    "* Mostrar uma multiplicação dos dois números\n",
    "* Em caso de não introduzir uma opção válida, o programa irá informar que não é correta"
   ]
  },
  {
   "cell_type": "code",
   "execution_count": 4,
   "metadata": {},
   "outputs": [],
   "source": [
    "#Digitar os números no teclado\n",
    "num_1 = float(input(\"Digite o primeiro número: \"))\n",
    "num_2 = float(input(\"Digite o segundo número: \"))\n",
    "\n",
    "#Definir as opções do menu\n",
    "print(\"Menu:\")\n",
    "print(\"1. Mostrar a soma dos dois números\")\n",
    "print(\"2. Mostrar o resto dos dois números (primeiro - segundo)\")\n",
    "print(\"3. Mostrar a multiplicação dos dois números\")\n",
    "\n",
    "opcao = int(input(\"Escolha uma opção (1/2/3): \"))\n",
    "\n",
    "if opcao == 1:\n",
    "    print(f\"A soma dos números é: {num_1 + num_2}\")\n",
    "elif opcao == 2:\n",
    "    print(f\"O resto dos números é: {num_1 - num_2}\")\n",
    "elif opcao == 3:\n",
    "    print(f\"A multiplicação dos números é: {num_1 * num_2}\")\n",
    "else:\n",
    "    print(\"Opção inválida.\")"
   ]
  },
  {
   "cell_type": "markdown",
   "metadata": {},
   "source": [
    "**4) Fazer um programa que leia letras e conte com uma variável contadora as letras “a” que se introduzem. Para sair do programa, introduzir o carácter “.”. Ao finalizar mostrar o número de vezes que se pressionou a letra “a”**"
   ]
  },
  {
   "cell_type": "code",
   "execution_count": 5,
   "metadata": {},
   "outputs": [],
   "source": [
    "#Definir o contador das letras \"a\"\n",
    "contador_a = 0\n",
    "\n",
    "#Definir as condições \n",
    "while True:\n",
    "    letra = input(\"Digite uma letra (ou '.' para sair): \")\n",
    "    if letra == '.':\n",
    "        break\n",
    "    if letra == 'a':\n",
    "        contador_a += 1\n",
    "\n",
    "print(f\"Você digitou a letra 'a' {contador_a} vezes.\")"
   ]
  },
  {
   "cell_type": "markdown",
   "metadata": {},
   "source": [
    "**5)  Fazer um programa que leia por teclado um número ímpar. Deve repetir-se o processo enquanto o utilizador continue a introduzir números ímpares. Quando introduzir um número par, o programa irá parar.**"
   ]
  },
  {
   "cell_type": "code",
   "execution_count": 6,
   "metadata": {},
   "outputs": [],
   "source": [
    "#Definir as condições para identificar números pares e números ímpares\n",
    "while True:\n",
    "    numero = int(input(\"Digite um número ímpar: \"))\n",
    "    \n",
    "    if numero % 2 == 0:\n",
    "        print(f\"Você digitou o número {numero}, que é um número par. O programa vai parar.\")\n",
    "        break\n",
    "    else:\n",
    "        print(f\"O número {numero} é ímpar.\")"
   ]
  },
  {
   "cell_type": "markdown",
   "metadata": {},
   "source": [
    "**6) Fazer um programa que some todos os números pares desde 0 até 100:**\n",
    "\n",
    "*Sugestão: pode utilizar as funções sum() e range() para o tornar mais fácil. O terceiro parâmetro na função range (início, fim, salto) indica um salto de números, experimente-o*"
   ]
  },
  {
   "cell_type": "code",
   "execution_count": 7,
   "metadata": {},
   "outputs": [],
   "source": [
    "#Definir a soma de todos os números pares desde 0 até 100\n",
    "soma = sum(range(0, 101, 2))\n",
    "print(f\"A soma de todos os números pares de 0 a 100 é: {soma}\")"
   ]
  },
  {
   "cell_type": "markdown",
   "metadata": {},
   "source": [
    "**7)  Fazer um programa que solicite ao utilizador um número que representa o total de números que se vão introduzir. Posteriormente, ler todos esses números e fazer a média aritmética de todos eles:**"
   ]
  },
  {
   "cell_type": "code",
   "execution_count": 8,
   "metadata": {},
   "outputs": [],
   "source": [
    "#Definir o número total de números a introduzir\n",
    "total_numeros = int(input(\"Digite o total de números a serem introduzidos: \"))\n",
    "soma = 0\n",
    "\n",
    "#Ler os números e fazer a sua soma\n",
    "for i in range(total_numeros):\n",
    "    numero = float(input(f\"Digite o {i + 1}º número: \"))\n",
    "    soma += numero\n",
    "    \n",
    "#Fazer a média dos números\n",
    "media = soma / total_numeros\n",
    "print(f\"A média aritmética dos números é: {media}\")"
   ]
  },
  {
   "cell_type": "markdown",
   "metadata": {},
   "source": [
    "**8) Fazer um programa que solicite ao utilizador um número inteiro de 0 a 9, e que enquanto o número não seja correto se repita o processo. Logo deve comprovar se o número se encontra na lista de números e notificá-lo:**\n",
    "\n",
    "*Conselho: a sintaxis “valor in lista” permite comprovar facilmente se um valor se encontra numa lista (devolver True ou False)*"
   ]
  },
  {
   "cell_type": "code",
   "execution_count": 9,
   "metadata": {},
   "outputs": [],
   "source": [
    "#Definir a lista de números inteiros\n",
    "numeros = [2, 4, 5, 6, 7, 9]\n",
    "\n",
    "#Definir as condições a avaliar\n",
    "while True:\n",
    "    num = int(input(\"Digite um número inteiro de 0 a 9: \"))\n",
    "    if num in numeros:\n",
    "        print(f\"O número {num} está na lista de números.\")\n",
    "        break\n",
    "    else:\n",
    "        print(\"O número não está na lista. Tente novamente.\")"
   ]
  },
  {
   "cell_type": "markdown",
   "metadata": {},
   "source": [
    "**9) Fazer um programa que utilize a função range() e a conversão para listas gera as seguintes listas dinamicamente (e mostrá-las com print):**\n",
    "\n",
    "* Todos os números de 0 a 10 [0, 1, 2, ..., 10]\n",
    "* Todos os números de -10 a 0 [-10, -9, -8, ..., 0]\n",
    "* Todos os números pares de 0 a 20 [0, 2, 4, ..., 20]\n",
    "* Todos os números ímpares entre -20 e 0 [-19, -17, -15, ..., -1]\n",
    "* Todos os números múltiplos de 5 a 50 [0, 5, 10, ..., 50]\n",
    "\n",
    "*Pista: utilizar o terceiro parâmetro da função range (início, fim, salto).*"
   ]
  },
  {
   "cell_type": "code",
   "execution_count": 10,
   "metadata": {},
   "outputs": [],
   "source": [
    "# Todos os números de 0 a 10\n",
    "lista1 = list(range(11))\n",
    "print(lista1)\n",
    "\n",
    "# Todos os números de -10 a 0\n",
    "lista2 = list(range(-10, 1))\n",
    "print(lista2)\n",
    "\n",
    "# Todos os números pares de 0 a 20\n",
    "lista3 = list(range(0, 21, 2))\n",
    "print(lista3)\n",
    "\n",
    "# Todos os números ímpares entre -20 e 0\n",
    "lista4 = list(range(-19, 1, 2))\n",
    "print(lista4)\n",
    "\n",
    "# Todos os números múltiplos de 5 a 50\n",
    "lista5 = list(range(0, 51, 5))\n",
    "print(lista5)"
   ]
  },
  {
   "cell_type": "markdown",
   "metadata": {},
   "source": [
    "**10) Fazer um programa que dadas duas listas, gera uma terceira lista com todos os elementos que se repitam nelas, mas não deve repetir-se nenhum elemento na nova lista:**"
   ]
  },
  {
   "cell_type": "code",
   "execution_count": 11,
   "metadata": {},
   "outputs": [],
   "source": [
    "#Definir as listas\n",
    "lista_1 = [\"o\", 'l', 'a', ' ', 'm', 'u', 'n', 'd', 'o']\n",
    "lista_2 = [\"o\", 'l', 'a']\n",
    "lista_3 = []\n",
    "\n",
    "#Verificar as repetições de elementos entre a lista_1 e a lista_2\n",
    "for item in lista_1:\n",
    "    if item in lista_2 and item not in lista_3:\n",
    "        lista_3.append(item)\n",
    "\n",
    "print(\"Elementos que se repetem nas duas listas, sem repetição:\")\n",
    "print(lista_3)"
   ]
  }
 ],
 "metadata": {
  "anaconda-cloud": {},
  "kernelspec": {
   "display_name": "Python 3 (ipykernel)",
   "language": "python",
   "name": "python3"
  },
  "language_info": {
   "codemirror_mode": {
    "name": "ipython",
    "version": 3
   },
   "file_extension": ".py",
   "mimetype": "text/x-python",
   "name": "python",
   "nbconvert_exporter": "python",
   "pygments_lexer": "ipython3",
   "version": "3.11.5"
  }
 },
 "nbformat": 4,
 "nbformat_minor": 1
}
